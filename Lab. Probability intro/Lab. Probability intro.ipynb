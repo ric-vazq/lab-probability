{
 "cells": [
  {
   "cell_type": "markdown",
   "metadata": {},
   "source": [
    "# Probability"
   ]
  },
  {
   "cell_type": "markdown",
   "metadata": {},
   "source": [
    "## Challenge 1\n",
    "There is a box with 10 white balls, 12 red balls and 8 black balls. Calculate the probability of:\n",
    "* Taking a white ball out.\n",
    "* Taking a white ball on first extraction and a black ball out on second extraction without replacing the first one.\n",
    "* Taking a white ball on first extraction and a black ball out on second extraction replacing the first one.\n",
    "* Taking 3 balls and them being all different colours."
   ]
  },
  {
   "cell_type": "code",
   "execution_count": 4,
   "metadata": {},
   "outputs": [
    {
     "name": "stdout",
     "output_type": "stream",
     "text": [
      "0.3333333333333333\n",
      "0.09195402298850575\n",
      "0.08888888888888888\n",
      "0.03940886699507389\n"
     ]
    }
   ],
   "source": [
    "balls = 30\n",
    "white = 10\n",
    "red = 12\n",
    "black = 8 \n",
    "\n",
    "pulling_white = white/balls\n",
    "pulling_red = red/balls\n",
    "pulling_black = black/balls\n",
    "\n",
    "pulling_white_then_black_no_replacement = pulling_white * (black/29)\n",
    "pulling_white_then_black_replacement = pulling_white * pulling_black\n",
    "pulling_all_no_replacement = pulling_white * (black/29) * (red/28)\n",
    "print(pulling_white)\n",
    "print(pulling_white_then_black_no_replacement)\n",
    "print(pulling_white_then_black_replacement)\n",
    "print(pulling_all_no_replacement)\n",
    "\n"
   ]
  },
  {
   "cell_type": "markdown",
   "metadata": {},
   "source": [
    "## Challenge 2\n",
    "\n",
    "You want to go on picnic on Saturday. You hate rain, and would know to plan your weekend. To help you make a decision, you gather the following data about rainy days:\n",
    "\n",
    "* 40% of all days are cloudy.\n",
    "* About 50% of cloudy days are rainy. \n",
    "* About 20% of non-cloudy days are rainy.\n",
    "\n",
    "What is the chance of rain during next Saturday?"
   ]
  },
  {
   "cell_type": "code",
   "execution_count": 5,
   "metadata": {},
   "outputs": [
    {
     "data": {
      "text/plain": [
       "0.32"
      ]
     },
     "execution_count": 5,
     "metadata": {},
     "output_type": "execute_result"
    }
   ],
   "source": [
    "cloudy_days = 0.40\n",
    "non_cloudy_days = 1 - 0.40\n",
    "rain_on_cloudy = 0.50\n",
    "rain_on_non_cloudy = 0.20\n",
    "rain_chance = (cloudy_days * rain_on_cloudy) + (non_cloudy_days * rain_on_non_cloudy)\n",
    "rain_chance\n",
    "       \n",
    "\n"
   ]
  },
  {
   "cell_type": "markdown",
   "metadata": {},
   "source": [
    "## Challenge 3\n",
    "\n",
    "A and B are events of a probability such that $P(A) = 0.3$, $P(B) = 0.6$ and $P(A \\cap B) = 0.1$\n",
    "\n",
    "Which of the following statements are true?  \n",
    "**HINT: draw a big Venn Diagram by your side**  \n",
    "* $P(\\overline{A}) = 0.7$\n",
    "* $P(A \\cup B) = 0.6$\n",
    "* $P(A \\cap \\overline{B}) = 0.2$\n",
    "* $P(A \\cup \\overline{A}) = 1$  \n",
    "* $P(A \\cap (B \\cup \\overline{B})) = 0.4$\n",
    "* $P(\\overline{A} \\cap \\overline{B}) = 0.3$\n",
    "* $P(\\overline{A \\cap B}) = 0.9$"
   ]
  },
  {
   "cell_type": "code",
   "execution_count": 13,
   "metadata": {},
   "outputs": [
    {
     "name": "stdout",
     "output_type": "stream",
     "text": [
      "0.7\n",
      "0.7999999999999999\n",
      "0.19999999999999998\n",
      "1.0\n",
      "0.3\n",
      "0.20000000000000007\n",
      "0.9\n"
     ]
    }
   ],
   "source": [
    "a = 0.3\n",
    "b = 0.6\n",
    "a_and_b = 0.1\n",
    "\n",
    "#Statement one: probability of complement of A, complement A is the space not occupied by A. \n",
    "complement_a = 1 - a\n",
    "print(complement_a)\n",
    "# Statement 1 is true. \n",
    "\n",
    "# Statement 2: probability of A or B but not both. Hence the addition of both spaces minus the shared space. \n",
    "a_or_b = a + b - a_and_b\n",
    "print(a_or_b)\n",
    "# Statement 2 is false\n",
    "\n",
    "#Statement 3: probability of a happening AND b not happening. Hence A - the shared space with B \n",
    "a_and_not_b = a - a_and_b\n",
    "print(a_and_not_b)\n",
    "\n",
    "#Statement 4: probability of A AND not A happening\n",
    "a_and_not_a = a + complement_a\n",
    "print(a_and_not_a)\n",
    "#Statement 4 is true\n",
    "\n",
    "#Statement 5: probability of A AND (B AND not B) is equal to the space A occupies since B AND complement B = 1 \n",
    "a_and_b_and_not_b = a \n",
    "print(a_and_b_and_not_b)\n",
    "# Statement 5 is false . \n",
    "\n",
    "#Statement 6: probability of complement A and complement B happening. \n",
    "com_a_and_com_b = 1 - a_or_b\n",
    "print(com_a_and_com_b)\n",
    "#Statment 6 is false. \n",
    "\n",
    "#Statement 7: probability of A and B not togehter \n",
    "not_a_and_b = 1 - a_and_b\n",
    "print(not_a_and_b)\n",
    "#Statement 7 is true. "
   ]
  },
  {
   "cell_type": "code",
   "execution_count": null,
   "metadata": {},
   "outputs": [],
   "source": []
  },
  {
   "cell_type": "markdown",
   "metadata": {},
   "source": [
    "## Challenge 4\n",
    "\n",
    " * If someone flies to China, the probability of getting Covid is 1%  \n",
    " * If someone flies to Italy, the probability of getting Covid is 20%  \n",
    "\n",
    "I roll 1 dice with numbers 1, 2, 3, 4, 5, 6:  \n",
    " * If 1: I fly to Italy\n",
    " * If not 1: I fly to China\n",
    "\n",
    "During my trip, I got Covid. What is the probability that I flew to China?"
   ]
  },
  {
   "cell_type": "code",
   "execution_count": 15,
   "metadata": {},
   "outputs": [
    {
     "name": "stdout",
     "output_type": "stream",
     "text": [
      "0.041666666666666664\n",
      "0.2\n"
     ]
    }
   ],
   "source": [
    "#For this problem we'll use Bayes' Theorem\n",
    "china = 5/6\n",
    "italy = 1/6\n",
    "covid_italy = 0.20\n",
    "covid_china = 0.01\n",
    "\n",
    "#we need to first find the probability of getting covid, using the law of total probability\n",
    "covid = covid_china*china + covid_italy*italy\n",
    "print(covid)\n",
    "\n",
    "#now we can use Bayes Theorem. \n",
    "china_and_covid = (covid_china*china)/covid\n",
    "print(china_and_covid)\n",
    "\n",
    "\n"
   ]
  },
  {
   "cell_type": "markdown",
   "metadata": {},
   "source": [
    "## BONUS\n",
    "\n",
    "You roll 2 dice. What is the probability that the sum of the numbers is 7? And 8? And 9? Then simulate 10000 times and draw a countplot."
   ]
  },
  {
   "cell_type": "markdown",
   "metadata": {},
   "source": [
    "your explanation here"
   ]
  },
  {
   "cell_type": "code",
   "execution_count": 2,
   "metadata": {},
   "outputs": [
    {
     "name": "stdout",
     "output_type": "stream",
     "text": [
      "0.16666666666666666 0.1388888888888889 0.1111111111111111\n"
     ]
    },
    {
     "data": {
      "image/png": "[encoded data removed]",
      "text/plain": [
       "<Figure size 1000x600 with 1 Axes>"
      ]
     },
     "metadata": {},
     "output_type": "display_data"
    }
   ],
   "source": [
    "import numpy as np\n",
    "import seaborn as sns\n",
    "import matplotlib.pyplot as plt\n",
    "\n",
    "#There are a total of 36 possible outcomes by two dice. \n",
    "outcomes = 36\n",
    "# There are 6 combinations that give a sum of 7: (1,6), (2,5), (3,4), (4,3), (5,2), and (6,1)\n",
    "probability_7 = 6/outcomes\n",
    "\n",
    "# There are 5 combinations that result in a sum of 8: (2,6) (3,5) (4,4) (5,3) and (6,2)\n",
    "probability_8 = 5/outcomes\n",
    "\n",
    "# There are 5 combinations that result in a sum of 9: (3,6) (4,5) (5,4) and (6,3)\n",
    "probability_9 = 4/outcomes\n",
    "\n",
    "print(probability_7, probability_8, probability_9)\n",
    "\n",
    "# Number of simulations\n",
    "n_simulations = 10000\n",
    "\n",
    "# Simulate rolling two dice\n",
    "dice1 = np.random.randint(1, 7, n_simulations)\n",
    "dice2 = np.random.randint(1, 7, n_simulations)\n",
    "sums = dice1 + dice2\n",
    "\n",
    "# Plot the count plot\n",
    "plt.figure(figsize=(10, 6))\n",
    "sns.countplot(x=sums, palette=\"viridis\")\n",
    "plt.title(\"Distribution of Sums of Two Dice Rolled 10,000 Times\")\n",
    "plt.xlabel(\"Sum of Two Dice\")\n",
    "plt.ylabel(\"Count\")\n",
    "plt.show()\n"
   ]
  }
 ],
 "metadata": {
  "kernelspec": {
   "display_name": "Python 3 (ipykernel)",
   "language": "python",
   "name": "python3"
  },
  "language_info": {
   "codemirror_mode": {
    "name": "ipython",
    "version": 3
   },
   "file_extension": ".py",
   "mimetype": "text/x-python",
   "name": "python",
   "nbconvert_exporter": "python",
   "pygments_lexer": "ipython3",
   "version": "3.11.7"
  },
  "toc": {
   "base_numbering": 1,
   "nav_menu": {},
   "number_sections": false,
   "sideBar": true,
   "skip_h1_title": false,
   "title_cell": "Table of Contents",
   "title_sidebar": "Contents",
   "toc_cell": false,
   "toc_position": {
    "height": "calc(100% - 180px)",
    "left": "10px",
    "top": "150px",
    "width": "296.475px"
   },
   "toc_section_display": true,
   "toc_window_display": false
  },
  "varInspector": {
   "cols": {
    "lenName": 16,
    "lenType": 16,
    "lenVar": 40
   },
   "kernels_config": {
    "python": {
     "delete_cmd_postfix": "",
     "delete_cmd_prefix": "del ",
     "library": "var_list.py",
     "varRefreshCmd": "print(var_dic_list())"
    },
    "r": {
     "delete_cmd_postfix": ") ",
     "delete_cmd_prefix": "rm(",
     "library": "var_list.r",
     "varRefreshCmd": "cat(var_dic_list()) "
    }
   },
   "types_to_exclude": [
    "module",
    "function",
    "builtin_function_or_method",
    "instance",
    "_Feature"
   ],
   "window_display": false
  }
 },
 "nbformat": 4,
 "nbformat_minor": 2
}
